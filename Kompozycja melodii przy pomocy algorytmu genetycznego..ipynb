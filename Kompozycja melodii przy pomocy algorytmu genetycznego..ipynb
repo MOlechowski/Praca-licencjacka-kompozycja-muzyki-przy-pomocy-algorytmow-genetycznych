{
 "cells": [
  {
   "cell_type": "markdown",
   "metadata": {},
   "source": [
    "Program przy pierwszym uruchomieni stworzy na pulpicie folder nazwany Notes w którym będą zapisywane rezultaty.\n",
    "Do poprawnego działania tego notatnika potrzebne jest zainstalowanie programu musescore, który konwertuje xml midi na grafikę z nutami. Można go pobrać tutaj:https://musescore.org/en\n"
   ]
  },
  {
   "cell_type": "markdown",
   "metadata": {},
   "source": [
    "Instalacja potrzebnych bibliotek."
   ]
  },
  {
   "cell_type": "code",
   "execution_count": 1,
   "metadata": {
    "scrolled": true
   },
   "outputs": [
    {
     "name": "stdout",
     "output_type": "stream",
     "text": [
      "Requirement already satisfied: matplotlib in /Users/michalolechowski/.pyenv/versions/3.5.3/lib/python3.5/site-packages\n",
      "Requirement already satisfied: python-dateutil>=2.1 in /Users/michalolechowski/.pyenv/versions/3.5.3/lib/python3.5/site-packages (from matplotlib)\n",
      "Requirement already satisfied: pyparsing!=2.0.4,!=2.1.2,!=2.1.6,>=2.0.1 in /Users/michalolechowski/.pyenv/versions/3.5.3/lib/python3.5/site-packages (from matplotlib)\n",
      "Requirement already satisfied: kiwisolver>=1.0.1 in /Users/michalolechowski/.pyenv/versions/3.5.3/lib/python3.5/site-packages (from matplotlib)\n",
      "Requirement already satisfied: numpy>=1.10.0 in /Users/michalolechowski/.pyenv/versions/3.5.3/lib/python3.5/site-packages (from matplotlib)\n",
      "Requirement already satisfied: cycler>=0.10 in /Users/michalolechowski/.pyenv/versions/3.5.3/lib/python3.5/site-packages (from matplotlib)\n",
      "Requirement already satisfied: six>=1.5 in /Users/michalolechowski/.pyenv/versions/3.5.3/lib/python3.5/site-packages (from python-dateutil>=2.1->matplotlib)\n",
      "Requirement already satisfied: setuptools in /Users/michalolechowski/.pyenv/versions/3.5.3/lib/python3.5/site-packages (from kiwisolver>=1.0.1->matplotlib)\n",
      "\u001B[33mYou are using pip version 9.0.1, however version 20.2.2 is available.\n",
      "You should consider upgrading via the 'pip install --upgrade pip' command.\u001B[0m\n",
      "Requirement already satisfied: scipy in /Users/michalolechowski/.pyenv/versions/3.5.3/lib/python3.5/site-packages\n",
      "Requirement already satisfied: numpy>=1.13.3 in /Users/michalolechowski/.pyenv/versions/3.5.3/lib/python3.5/site-packages (from scipy)\n",
      "\u001B[33mYou are using pip version 9.0.1, however version 20.2.2 is available.\n",
      "You should consider upgrading via the 'pip install --upgrade pip' command.\u001B[0m\n",
      "Requirement already satisfied: music21 in /Users/michalolechowski/.pyenv/versions/3.5.3/lib/python3.5/site-packages\n",
      "\u001B[33mYou are using pip version 9.0.1, however version 20.2.2 is available.\n",
      "You should consider upgrading via the 'pip install --upgrade pip' command.\u001B[0m\n"
     ]
    }
   ],
   "source": [
    "! pip3 install matplotlib\n",
    "! pip3 install scipy\n",
    "! pip3 install music21"
   ]
  },
  {
   "cell_type": "code",
   "execution_count": 2,
   "metadata": {},
   "outputs": [],
   "source": [
    "import copy\n",
    "import platform\n",
    "import random\n",
    "import os\n",
    "from music21 import *\n",
    "from music21 import interval\n",
    "from music21 import scale\n",
    "from music21.note import Note, Rest\n",
    "from music21 import interval\n",
    "from music21 import scale\n",
    "from music21.note import Note\n",
    "from NotesRelationshipConfig import NotesRelationshipConfig"
   ]
  },
  {
   "cell_type": "markdown",
   "metadata": {},
   "source": [
    "Klasa reprezentująca pojedyńczą nutę w populacji."
   ]
  },
  {
   "cell_type": "code",
   "execution_count": 3,
   "metadata": {},
   "outputs": [],
   "source": [
    "class MusicNote(object):\n",
    "    location = 0\n",
    "    fitness_score = 0.0\n",
    "    melody_direction_fitness = 0\n",
    "    is_first_note_of_melody = False\n",
    "    is_last_note_of_melody = False\n",
    "    note_interval = None\n",
    "\n",
    "    def __init__(self, music_note: Note, fitness_score: 0.0, note_interval, location, is_last=False):\n",
    "        self.note_interval = note_interval\n",
    "        self.music_note = music_note\n",
    "        self.fitness_score = fitness_score\n",
    "        self.location = location\n",
    "        if location == 0:\n",
    "            self.is_first_note_of_melody = True\n",
    "        self.is_last_note_of_melody = is_last\n",
    "\n",
    "    def __repr__(self):\n",
    "        return repr(self.fitness_score)\n"
   ]
  },
  {
   "cell_type": "markdown",
   "metadata": {},
   "source": [
    "Klasa reprezentująca cała populacje nut."
   ]
  },
  {
   "cell_type": "code",
   "execution_count": 4,
   "metadata": {},
   "outputs": [],
   "source": [
    "class MusicPeace(object):\n",
    "    all_notes = []\n",
    "    temp_notes = []\n",
    "    bars_number = 0\n",
    "    note_ids = []\n",
    "\n",
    "    def __init__(self, bars_number):\n",
    "        self.bars_number = bars_number\n",
    "        self.get_all_notes(0.0)\n",
    "\n",
    "    def get_all_notes(self, note_fitness_score):\n",
    "        self.get_temp_notes()\n",
    "        self.create_notes(note_fitness_score)\n",
    "\n",
    "    def get_temp_notes(self):\n",
    "        count = 0\n",
    "        bars_count = 0\n",
    "        while bars_count < self.bars_number * 4:\n",
    "            tone = self.generate_scale_tone(self.temp_notes, count)\n",
    "            self.temp_notes.append(tone)\n",
    "            bars_count = self.calculate_if_bars_are_done()\n",
    "            count = count + 1\n",
    "\n",
    "    def calculate_if_bars_are_done(self):\n",
    "        count = 0\n",
    "        for note in self.temp_notes:\n",
    "            count = count + note.duration.quarterLength\n",
    "        return count\n",
    "\n",
    "    @staticmethod\n",
    "    def generate_scale_tone(notes: [], count):\n",
    "        items = ['C', 'D', 'E', 'F', 'G', 'A', 'B', 'C#', 'D#', 'F#', 'G#', 'A#']\n",
    "\n",
    "        rand_item = items[random.randrange(len(items))]\n",
    "\n",
    "        scales = scale.MajorScale(rand_item)\n",
    "\n",
    "        all_pitches = list(set([pitch for pitch in scales.getPitches()]))\n",
    "        all_note_names = [i.name for i in all_pitches]\n",
    "\n",
    "        note_name = random.choice(all_note_names)\n",
    "\n",
    "        final_note = Note(note_name)\n",
    "\n",
    "        duration_list = [1, 1 / 2]\n",
    "\n",
    "        if not notes:\n",
    "            final_note.duration.quarterLength = random.choice(duration_list)\n",
    "            return final_note\n",
    "\n",
    "        try:\n",
    "            if notes[count - 1].duration.quarterLength == 1 / 2 and notes[count - 2].duration.quarterLength != 1 / 2:\n",
    "                final_note.duration.quarterLength = 1 / 2\n",
    "                return final_note\n",
    "        except:\n",
    "            if count == 0:\n",
    "                final_note.duration.quarterLength = 1 / 2\n",
    "                return final_note\n",
    "            else:\n",
    "                pass\n",
    "        else:\n",
    "            final_note.duration.quarterLength = random.choice(duration_list)\n",
    "            return final_note\n",
    "\n",
    "    def create_notes(self, note_fitness_score):\n",
    "        for index in range(0, len(self.temp_notes)):\n",
    "            note = self.temp_notes[index]\n",
    "\n",
    "            if index + 1 >= len(self.temp_notes):\n",
    "                note_interval = interval.Interval(note, second_note)\n",
    "                self.all_notes.append(MusicNote(note, note_fitness_score, note_interval, index, is_last=True))\n",
    "                continue\n",
    "\n",
    "            second_note = self.temp_notes[index + 1]\n",
    "            note_interval = interval.Interval(note, second_note)\n",
    "\n",
    "            if index == 0:\n",
    "                self.all_notes.append(MusicNote(note, note_fitness_score, note_interval, index))\n",
    "                continue\n",
    "\n",
    "            self.all_notes.append(MusicNote(note, note_fitness_score, note_interval, index))\n",
    "            "
   ]
  },
  {
   "cell_type": "markdown",
   "metadata": {},
   "source": [
    "Konfiguracja funkcji oceniającej zależność miedzy nutami."
   ]
  },
  {
   "cell_type": "code",
   "execution_count": 5,
   "metadata": {},
   "outputs": [],
   "source": [
    "class NotesRelationshipConfig(object):\n",
    "    evaluate_one_step = True\n",
    "    evaluate_two_steps = True\n",
    "    evaluate_three_steps = True\n",
    "    evaluate_same_distance = True\n",
    "\n",
    "    def __init__(self, evaluate_one_step, evaluate_two_steps, evaluate_three_steps, evaluate_same_distance):\n",
    "        self.evaluate_one_step = evaluate_one_step\n",
    "        self.evaluate_two_steps = evaluate_two_steps\n",
    "        self.evaluate_three_steps = evaluate_three_steps\n",
    "        self.evaluate_same_distance = evaluate_same_distance\n"
   ]
  },
  {
   "cell_type": "markdown",
   "metadata": {},
   "source": [
    "Funkcji oceniającej zależność miedzy nutami"
   ]
  },
  {
   "cell_type": "code",
   "execution_count": 6,
   "metadata": {},
   "outputs": [],
   "source": [
    "def notes_relationship(note_one, note_two, config: NotesRelationshipConfig):\n",
    "    count = 0\n",
    "    fitness = 0\n",
    "    if config.evaluate_one_step:\n",
    "        one_step_relationship = one_step(note_one.music_note, note_two.music_note)\n",
    "        count = count + 1\n",
    "        fitness = fitness + one_step_relationship\n",
    "    if config.evaluate_two_steps:\n",
    "        two_step_relationship = two_steps(note_one.music_note, note_two.music_note)\n",
    "        count = count + 1\n",
    "        fitness = fitness + two_step_relationship\n",
    "    if config.evaluate_three_steps:\n",
    "        three_steps_relationship = three_steps(note_one.music_note, note_two.music_note)\n",
    "        count = count + 1\n",
    "        fitness = fitness + three_steps_relationship\n",
    "    if config.evaluate_same_distance:\n",
    "        same_note_relationship = same_distance(note_one.music_note, note_two.music_note)\n",
    "        count = count + 1\n",
    "        fitness = fitness + same_note_relationship\n",
    "\n",
    "    if count > 0:\n",
    "        return fitness / count\n",
    "    else:\n",
    "        return -1\n",
    "\n",
    "def one_step(note_one, note_two):\n",
    "    if interval.notesToGeneric(note_one, note_two) == 'M2' or 'm2':\n",
    "        return 0.7\n",
    "    else:\n",
    "        return 0\n",
    "\n",
    "\n",
    "def two_steps(note_one, note_two):\n",
    "    if interval.notesToGeneric(note_one, note_two) == 'M3' or 'm3':\n",
    "        return 1\n",
    "    else:\n",
    "        return 0\n",
    "\n",
    "\n",
    "def three_steps(note_one, note_two):\n",
    "    if interval.notesToGeneric(note_one, note_two) == 'P4' or 'A4':\n",
    "        return 0.8\n",
    "    else:\n",
    "        return 0\n",
    "\n",
    "\n",
    "def same_distance(note_one, note_two):\n",
    "    if interval.notesToGeneric(note_one, note_two) == 'P1':\n",
    "        return 0.2\n",
    "    else:\n",
    "        return 1"
   ]
  },
  {
   "cell_type": "markdown",
   "metadata": {},
   "source": [
    "Klasa odpowiedzialna za konfiguracje algorytmu."
   ]
  },
  {
   "cell_type": "code",
   "execution_count": 7,
   "metadata": {},
   "outputs": [],
   "source": [
    "class AlgorithmConfig(object):\n",
    "    notes_relationship_config = NotesRelationshipConfig(True, True, True, True)\n",
    "    evaluate_degree = True\n",
    "    evaluate_drastic_duration_change = True\n",
    "    evaluate_note_melody_direction = True\n",
    "    evaluate_first_or_last_note = True\n",
    "\n",
    "    def __init__(self, evaluate_degree,\n",
    "                 evaluate_drastic_duration_change,\n",
    "                 evaluate_note_melody_direction,\n",
    "                 evaluate_first_or_last_note,\n",
    "                 notes_relationship_config: NotesRelationshipConfig):\n",
    "        self.notes_relationship_config = notes_relationship_config\n",
    "        self.evaluate_degree = evaluate_degree\n",
    "        self.evaluate_drastic_duration_change = evaluate_drastic_duration_change\n",
    "        self.evaluate_note_melody_direction = evaluate_note_melody_direction\n",
    "        self.evaluate_first_or_last_note = evaluate_first_or_last_note\n"
   ]
  },
  {
   "cell_type": "markdown",
   "metadata": {},
   "source": [
    "Funkcja oceniająca nagłą zmianę odległości miedzy nutami."
   ]
  },
  {
   "cell_type": "code",
   "execution_count": 8,
   "metadata": {},
   "outputs": [],
   "source": [
    "def drastic_duration_change_fitness_function(note1, note2):\n",
    "    proportion = note1.music_note.duration.quarterLength / note2.music_note.duration.quarterLength\n",
    "\n",
    "    if proportion > 4:\n",
    "        return 0.2\n",
    "    else:\n",
    "        return 1\n"
   ]
  },
  {
   "cell_type": "markdown",
   "metadata": {},
   "source": [
    "Funkcja oceniająca kąt między nutami."
   ]
  },
  {
   "cell_type": "code",
   "execution_count": 9,
   "metadata": {},
   "outputs": [],
   "source": [
    "def degree_fitness(note1: MusicNote, note2: MusicNote):\n",
    "    chosen_scale = scale.MajorScale('G')\n",
    "    degree1 = chosen_scale.getScaleDegreeFromPitch(note1.music_note.pitch)\n",
    "    degree2 = chosen_scale.getScaleDegreeFromPitch(note2.music_note.pitch)\n",
    "\n",
    "    if degree1 is None:\n",
    "        return 0.2\n",
    "    if degree2 is None:\n",
    "        return 0.2\n",
    "\n",
    "    if degree1 > degree2:\n",
    "        difference = degree1 - degree2\n",
    "    else:\n",
    "        difference = degree2 - degree1\n",
    "\n",
    "    if difference > 4:\n",
    "        return 0.2\n",
    "    else:\n",
    "        return 1\n"
   ]
  },
  {
   "cell_type": "markdown",
   "metadata": {},
   "source": [
    "Funkcje oceniające kierunek melodii."
   ]
  },
  {
   "cell_type": "code",
   "execution_count": 10,
   "metadata": {},
   "outputs": [],
   "source": [
    "def melody_direction_fitness(population):\n",
    "    for index in range(0, len(population) - 2, 1):\n",
    "        first_note = population[index]\n",
    "        second_note = population[index + 1]\n",
    "        third_note = population[index + 2]\n",
    "\n",
    "        direction_fitness = assign_melody_direction_fitness(first_note, second_note, third_note)\n",
    "\n",
    "        first_note.melody_direction_fitness = direction_fitness\n",
    "        \n",
    "def assign_melody_direction_fitness(note1: MusicNote, note2: MusicNote, note3: MusicNote):\n",
    "    if note3 is None:\n",
    "        return\n",
    "    if note2 is None:\n",
    "        return\n",
    "    return fitness_melody_direction_two_notes(note1, note2)\n",
    "\n",
    "def fitness_melody_direction_two_notes(note1: MusicNote,\n",
    "                                       note2: MusicNote\n",
    "                                       ):\n",
    "    if note1.note_interval.direction == 1 and note2.note_interval.direction == 1:\n",
    "        return 1\n",
    "\n",
    "    if note1.note_interval.direction == -1 and \\\n",
    "            note2.note_interval.direction == -1:\n",
    "        return 1\n",
    "\n",
    "    if note1.note_interval.direction == 0 and \\\n",
    "            note2.note_interval.direction == 0:\n",
    "        return 0.7\n",
    "    else:\n",
    "        return 0.4\n"
   ]
  },
  {
   "cell_type": "markdown",
   "metadata": {},
   "source": [
    "Funkcje oceniające przystosowanie pierwszej lub ostatniej nuty."
   ]
  },
  {
   "cell_type": "code",
   "execution_count": 11,
   "metadata": {},
   "outputs": [],
   "source": [
    "def first_or_last_note_fitness(first_note: MusicNote, song_scale):\n",
    "    if first_note.music_note.pitch.name == get_root_pitch(song_scale):\n",
    "        return 1\n",
    "    else:\n",
    "        return 0\n",
    "    \n",
    "def get_root_pitch(song_scale):\n",
    "    pitches = get_scale_pitches(song_scale)\n",
    "    all_note_names = [i.name for i in pitches]\n",
    "    return all_note_names[0]\n",
    "\n",
    "\n",
    "def get_scale_pitches(scale_local):\n",
    "    scale_pitches = []\n",
    "    for p in scale_local.pitches:\n",
    "        scale_pitches.append(p)\n",
    "    return scale_pitches"
   ]
  },
  {
   "cell_type": "markdown",
   "metadata": {},
   "source": [
    "Funkcja przystosowania."
   ]
  },
  {
   "cell_type": "code",
   "execution_count": 12,
   "metadata": {},
   "outputs": [],
   "source": [
    "def evaluate_fitness(population: [MusicNote], config: AlgorithmConfig):\n",
    "    if config.evaluate_note_melody_direction:\n",
    "        melody_direction_fitness(population)\n",
    "\n",
    "    scales = scale.MajorScale('G')\n",
    "\n",
    "    for index in range(0, len(population), 1):\n",
    "        indexed_note = population[index]\n",
    "\n",
    "        if population[index].is_last_note_of_melody:\n",
    "            if config.evaluate_first_or_last_note:\n",
    "                last_note_fitness = first_or_last_note_fitness(indexed_note, scales)\n",
    "                indexed_note.fitness_score = last_note_fitness\n",
    "            continue\n",
    "\n",
    "        if population[index].is_first_note_of_melody and config.evaluate_first_or_last_note:\n",
    "            first_note_fitness = first_or_last_note_fitness(indexed_note, scales)\n",
    "            indexed_note.fitness_score = first_note_fitness\n",
    "            continue\n",
    "\n",
    "        second_note = population[index + 1]\n",
    "\n",
    "        fitness = 0\n",
    "        count = 0\n",
    "\n",
    "        step_relationship = notes_relationship(indexed_note, second_note, config.notes_relationship_config)\n",
    "        if step_relationship != -1:\n",
    "            fitness = fitness + step_relationship\n",
    "            count = count + 1\n",
    "        if config.evaluate_degree:\n",
    "            degree_fitness_value = degree_fitness(indexed_note, second_note)\n",
    "            fitness = fitness + degree_fitness_value\n",
    "            count = count + 1\n",
    "        if config.evaluate_drastic_duration_change:\n",
    "            drastic_duration_change_fitness = drastic_duration_change_fitness_function(indexed_note, second_note)\n",
    "            fitness = fitness + drastic_duration_change_fitness\n",
    "            count = count + 1\n",
    "        if config.evaluate_note_melody_direction:\n",
    "            note_melody_direction_fitness = indexed_note.melody_direction_fitness\n",
    "            fitness = fitness + note_melody_direction_fitness\n",
    "            count = count + 1\n",
    "\n",
    "        if count > 0:\n",
    "            indexed_note.fitness_score = fitness / count\n"
   ]
  },
  {
   "cell_type": "markdown",
   "metadata": {},
   "source": [
    "Funkcje odpowiedzialne za dodawanie pauz."
   ]
  },
  {
   "cell_type": "code",
   "execution_count": 13,
   "metadata": {},
   "outputs": [],
   "source": [
    "def add_rests(proportion, population):\n",
    "    while not is_proportion_in_range(proportion, population):\n",
    "        random_index = random.randint(1, len(population) - 2)\n",
    "        population[random_index].music_note = Rest()\n",
    "        \n",
    "def is_proportion_in_range(proportion, population):\n",
    "    current_rest_proportion = calculate_rest_proportion(population)\n",
    "    if proportion - 0.05 <= current_rest_proportion <= proportion + 0.05:\n",
    "        return True\n",
    "    else:\n",
    "        return False\n"
   ]
  },
  {
   "cell_type": "markdown",
   "metadata": {},
   "source": [
    "Funkcje używane przy mutacji."
   ]
  },
  {
   "cell_type": "code",
   "execution_count": 14,
   "metadata": {},
   "outputs": [],
   "source": [
    "def mutate(parent):\n",
    "    random_note = generate_scale_tone_mutation(parent)\n",
    "    parent.music_note = random_note\n",
    "    return parent.music_note\n",
    "\n",
    "def generate_scale_tone_mutation(parent):\n",
    "    scales = scale.MajorScale('G')\n",
    "\n",
    "    all_pitches = list(set([pitch for pitch in scales.getPitches()]))\n",
    "    all_note_names = [i.name for i in all_pitches]\n",
    "\n",
    "    note_name = random.choice(all_note_names)\n",
    "\n",
    "    final_note = Note(note_name)\n",
    "\n",
    "    final_note.duration.quarterLength = parent.music_note.duration.quarterLength\n",
    "    return final_note\n",
    "\n",
    "def calculate_rest_proportion(population):\n",
    "    counter = 0\n",
    "\n",
    "    for n in population:\n",
    "        if n.music_note.isRest:\n",
    "            counter = counter + 1\n",
    "    if counter == 0:\n",
    "        return 0\n",
    "    else:\n",
    "        return counter / len(population)\n"
   ]
  },
  {
   "cell_type": "markdown",
   "metadata": {},
   "source": [
    "Funkcja w której zachodzi selekcja na podstawie turnieju."
   ]
  },
  {
   "cell_type": "code",
   "execution_count": 15,
   "metadata": {},
   "outputs": [],
   "source": [
    "def tournament_selection(population: [MusicNote], population_size):\n",
    "    worst = None\n",
    "    i = 1\n",
    "\n",
    "    population_temp = copy.copy(population)\n",
    "\n",
    "    while i < population_size:\n",
    "\n",
    "        list_length = len(population_temp)\n",
    "        if list_length == 0:\n",
    "            if worst in population:\n",
    "                population.remove(worst)\n",
    "            return worst\n",
    "\n",
    "        individual = population_temp.pop(random.randint(0, list_length - 1))\n",
    "        if worst is None or individual.fitness_score < worst.fitness_score:\n",
    "            worst = individual\n",
    "        i += 1\n",
    "\n",
    "    if worst in population:\n",
    "        population.remove(worst)\n",
    "\n",
    "    return worst\n"
   ]
  },
  {
   "cell_type": "markdown",
   "metadata": {},
   "source": [
    "Główna definicja funkcji algorytmu genetycznego."
   ]
  },
  {
   "cell_type": "code",
   "execution_count": 16,
   "metadata": {},
   "outputs": [],
   "source": [
    "def genetic_algorithm(attempts, initial_population, config: AlgorithmConfig):\n",
    "    population = initial_population\n",
    "\n",
    "    evaluate_fitness(population, config)\n",
    "\n",
    "    count = 0\n",
    "    while count != attempts:\n",
    "        counter = 0\n",
    "        population_temp = copy.copy(population)\n",
    "\n",
    "        while counter != 1:  # number of notes to be eliminated\n",
    "\n",
    "            eliminated_note = tournament_selection(population_temp, len(population_temp))\n",
    "\n",
    "            new_note = mutate(eliminated_note)\n",
    "\n",
    "            altered_note = MusicNote(new_note, 0, None, eliminated_note.location,\n",
    "                                               eliminated_note.is_last_note_of_melody)\n",
    "\n",
    "            population[eliminated_note.location] = altered_note\n",
    "\n",
    "            counter = counter + 1\n",
    "\n",
    "        recalculate_intervals(population)\n",
    "        evaluate_fitness(population, config)\n",
    "\n",
    "        average_fitness = calculate_average_fitness(population)\n",
    "        print(\"Generation: {0}\".format(count), end=\"\\r\", flush=True)\n",
    "\n",
    "        count += 1\n",
    "    add_rests(0.05, population)\n",
    "    print(\"Generations run: {0}, with total average fitness of {1}\".format(count, average_fitness))\n",
    "    return population\n",
    "\n",
    "def recalculate_intervals(temp_notes):\n",
    "    for index in range(0, len(temp_notes)):\n",
    "        first_note = temp_notes[index]\n",
    "\n",
    "        if index + 1 >= len(temp_notes):\n",
    "            this_interval = interval.Interval(first_note.music_note, temp_notes[index - 1].music_note)\n",
    "            temp_notes[index].note_interval = this_interval\n",
    "            continue\n",
    "\n",
    "        second_note = temp_notes[index + 1]\n",
    "        this_interval = interval.Interval(first_note.music_note, second_note.music_note)\n",
    "\n",
    "        if index == 0:\n",
    "            temp_notes[index].note_interval = this_interval\n",
    "            continue\n",
    "\n",
    "        temp_notes[index].note_interval = this_interval\n",
    "\n",
    "def calculate_average_fitness(population: [MusicNote]):\n",
    "    total = 0\n",
    "    for n in population:\n",
    "        total += n.fitness_score\n",
    "    return total / len(population)"
   ]
  },
  {
   "cell_type": "markdown",
   "metadata": {},
   "source": [
    "Ustawienie systemowe."
   ]
  },
  {
   "cell_type": "code",
   "execution_count": 17,
   "metadata": {},
   "outputs": [],
   "source": [
    "def setup_environment():\n",
    "    if platform.system() == \"Windows\":\n",
    "        path = os.path.join(os.path.join(os.environ['USERPROFILE']), 'Desktop\\\\Notes\\\\')\n",
    "    else:\n",
    "        path = os.path.join(os.path.join(os.path.expanduser('~')), 'Desktop/Notes')\n",
    "    if not os.path.exists(path) or not os.path.isdir(path):\n",
    "        try:\n",
    "            os.mkdir(path)\n",
    "        except OSError:\n",
    "            print(\"Creation of the directory %s failed\" % path)\n",
    "        else:\n",
    "            print(\"Successfully created the directory %s \" % path)\n",
    "\n",
    "    environment.set('directoryScratch', path)\n"
   ]
  },
  {
   "cell_type": "markdown",
   "metadata": {},
   "source": [
    "Główna funkcja programu, aby uruchomić ponownie proszę wyczyścić notatnik."
   ]
  },
  {
   "cell_type": "code",
   "execution_count": 18,
   "metadata": {
    "pycharm": {
     "name": "#%%\n"
    }
   },
   "outputs": [
    {
     "name": "stdout",
     "output_type": "stream",
     "text": [
      "Generations run: 10, with total average fitness of 0.7362500000000002\n"
     ]
    },
    {
     "data": {
      "image/png": "[encoded data removed]",
      "text/plain": [
       "<IPython.core.display.Image object>"
      ]
     },
     "metadata": {
      "image/png": {
       "height": 56,
       "width": 748
      }
     },
     "output_type": "display_data"
    },
    {
     "data": {
      "text/html": [
       "\n",
       "                <div id='midiPlayerDiv1012'></div>\n",
       "                <link rel=\"stylesheet\" href=\"//cuthbertLab.github.io/music21j/css/m21.css\"\n",
       "                    type=\"text/css\" />\n",
       "                <script>\n",
       "                require.config({\n",
       "                    paths: {'music21': '//cuthbertLab.github.io/music21j/src/music21'}\n",
       "                });\n",
       "                require(['music21'], function() {\n",
       "                               mp = new music21.miditools.MidiPlayer();\n",
       "                               mp.addPlayer('#midiPlayerDiv1012');\n",
       "                               mp.base64Load('data:audio/midi;base64,TVRoZAAAAAYAAQABBABNVHJrAAAA7gD/AwAA4ABAAJBDWoQAgEMAAJA+WoQAgD4AAJBGWoQAgEYAAJA/WogAgD8AAJBAWogAgEAAAJA8WogAgDwAAJA8WoQAgDwAAJA+WoQAgD4AAJBDWoQAgEMAAJBEWogAgEQAAJBAWoQAgEAAAJBFWoQAgEUAAJBDWoQAgEMAAJBDWogAgEMAAJBEWoQAgEQAAJBCWoQAgEIAAJBFWoQAgEUAAJA9WogAgD0AAJA/WogAgD8AAJBAWoQAgEAAAJA8WoQAgDwAAJA9WoQAgD0AAJBDWoQAgEMAAJBDWoQAgEMAAJBDWoQAgEMAiAD/LwA=');\n",
       "                        });\n",
       "                </script>"
      ],
      "text/plain": [
       "<IPython.core.display.HTML object>"
      ]
     },
     "metadata": {},
     "output_type": "display_data"
    }
   ],
   "source": [
    "def play_midi(file_path):\n",
    "    mf = midi.MidiFile()\n",
    "    mf.open(file_path)\n",
    "    mf.read()\n",
    "    mf.close()\n",
    "    s = midi.translate.midiFileToStream(mf)\n",
    "    sp = midi.realtime.StreamPlayer(s)\n",
    "    sp.play()\n",
    "    \n",
    "def main():\n",
    "    setup_environment()\n",
    "\n",
    "    initial_population = MusicPeace(4)  # amount of bars in melody G dur scale\n",
    "\n",
    "    # evaluate_one_step = True\n",
    "    # evaluate_two_steps = True\n",
    "    # evaluate_three_steps = True\n",
    "    # evaluate_same_distance = True\n",
    "    # notes_relationship_config = NotesRelationshipConfig(True, True, True, True)\n",
    "\n",
    "    # evaluate_degree = True\n",
    "    # evaluate_drastic_duration_change = True\n",
    "    # evaluate_note_melody_direction = True\n",
    "    # evaluate_first_or_last_note = True\n",
    "\n",
    "    config = AlgorithmConfig(True, True, True, True, NotesRelationshipConfig(True, True, True, True))\n",
    "\n",
    "    final_population = genetic_algorithm(10, initial_population.all_notes, config)\n",
    "\n",
    "    try:\n",
    "        s1 = stream.Stream()\n",
    "        for n in final_population:\n",
    "            s1.append(n.music_note)\n",
    "        s1.show()\n",
    "        s1.show('midi')\n",
    "    except:\n",
    "        print(\"To display notes muse score software is required please install it from here: https://musescore.org/en\")\n",
    "\n",
    "if __name__ == '__main__':\n",
    "    main()\n"
   ]
  }
 ],
 "metadata": {
  "kernelspec": {
   "display_name": "Python 3",
   "language": "python",
   "name": "python3"
  },
  "language_info": {
   "codemirror_mode": {
    "name": "ipython",
    "version": 3
   },
   "file_extension": ".py",
   "mimetype": "text/x-python",
   "name": "python",
   "nbconvert_exporter": "python",
   "pygments_lexer": "ipython3",
   "version": "3.5.3"
  }
 },
 "nbformat": 4,
 "nbformat_minor": 2
}